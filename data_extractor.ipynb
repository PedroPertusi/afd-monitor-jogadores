{
  "cells": [
    {
      "cell_type": "markdown",
      "metadata": {
        "id": "view-in-github",
        "colab_type": "text"
      },
      "source": [
        "<a href=\"https://colab.research.google.com/github/PedroPertusi/afd-monitor-jogadores/blob/main/data_extractor.ipynb\" target=\"_parent\"><img src=\"https://colab.research.google.com/assets/colab-badge.svg\" alt=\"Open In Colab\"/></a>"
      ]
    },
    {
      "cell_type": "markdown",
      "source": [
        "# Monitor de notícias de jogadores de futebol - Campeonato Brasileiro Série A 2025"
      ],
      "metadata": {
        "id": "KYbPhiJCwzuF"
      }
    },
    {
      "cell_type": "markdown",
      "source": [
        "Dependências"
      ],
      "metadata": {
        "id": "-xLVNHSKw-_R"
      }
    },
    {
      "cell_type": "code",
      "execution_count": 21,
      "metadata": {
        "id": "m8mzzNRH2tep"
      },
      "outputs": [],
      "source": [
        "# !python -m pip install selenium\n",
        "# !python -m pip install webdriver_manager\n",
        "# !python -m pip install requests\n",
        "# !python -m pip install BeautifulSoup4"
      ]
    },
    {
      "cell_type": "code",
      "execution_count": 12,
      "metadata": {
        "id": "7xUpg2do5UNZ"
      },
      "outputs": [],
      "source": [
        "from bs4 import BeautifulSoup\n",
        "import requests\n",
        "import re\n",
        "import pandas as pd"
      ]
    },
    {
      "cell_type": "markdown",
      "source": [
        "Função para obter o HTML da página a ser acessada para extração dos dados"
      ],
      "metadata": {
        "id": "XmQcCCCPxCLs"
      }
    },
    {
      "cell_type": "code",
      "execution_count": 13,
      "metadata": {
        "id": "v4b6_pPB8GWG"
      },
      "outputs": [],
      "source": [
        "def baixar_pagina(url):\n",
        "  response = requests.get(url)\n",
        "  response.encoding = \"utf-8\"\n",
        "  html = response.text\n",
        "  return html"
      ]
    },
    {
      "cell_type": "markdown",
      "source": [
        "Função responsável por obter o link de uma notícia contido em seu respectivo título"
      ],
      "metadata": {
        "id": "p5HpOStQxqWX"
      }
    },
    {
      "cell_type": "code",
      "execution_count": 14,
      "metadata": {
        "id": "MsbbriIJ8iDQ"
      },
      "outputs": [],
      "source": [
        "def extrair_links_noticias_post(url):\n",
        "  html = baixar_pagina(url)\n",
        "  soup = BeautifulSoup(html, 'html.parser')\n",
        "  title = soup.find_all('h2')\n",
        "  links_noticias = []\n",
        "  for t in title:\n",
        "    if t.find('a').get('href'):\n",
        "      links_noticias.append(t.find('a').get('href'))\n",
        "  return links_noticias"
      ]
    },
    {
      "cell_type": "markdown",
      "source": [
        "Função para extrair o conteúdo de cada notícia"
      ],
      "metadata": {
        "id": "SyxRC4WB1nU3"
      }
    },
    {
      "cell_type": "code",
      "execution_count": 15,
      "metadata": {
        "id": "hCr0FKiT-voy"
      },
      "outputs": [],
      "source": [
        "def extrair_conteudo_noticia(url):\n",
        "    html = baixar_pagina(url)\n",
        "    soup = BeautifulSoup(html, 'html.parser')\n",
        "    ps = soup.find_all('p', class_='content-text__container')\n",
        "\n",
        "    textos = []\n",
        "    for p in ps:\n",
        "        # descarta parágrafos que contenham intertítulo ou lista\n",
        "        if p.find('div', class_='content-intertitle') or p.find('ul'):\n",
        "            continue\n",
        "        # extrai texto limpo (inclui <a>, <strong>, etc)\n",
        "        textos.append(p.get_text(\" \", strip=True))\n",
        "    return textos"
      ]
    },
    {
      "cell_type": "markdown",
      "source": [
        "Após a definição das funções necessárias para a extração de dados, podemos aplicá-las para realizar a extração"
      ],
      "metadata": {
        "id": "2uNhxhf22gu8"
      }
    },
    {
      "cell_type": "markdown",
      "source": [
        "O site escolhido para a obtenção de notícias foi o Globo Esporte (https://ge.globo.com/)"
      ],
      "metadata": {
        "id": "q6QWCmiE2pzJ"
      }
    },
    {
      "cell_type": "code",
      "execution_count": 16,
      "metadata": {
        "id": "3_pbxkpeTAwX"
      },
      "outputs": [],
      "source": [
        "times = [\"atletico-mg\", \"bahia\", \"botafogo\", \"bragantino\", \"ceara\", \"corinthians\", \"cruzeiro\", \"flamengo\", \"fluminense\", \"fortaleza\",\n",
        "         \"gremio\", \"internacional\", \"juventude\", \"mirassol\", \"palmeiras\", \"santos\", \"sao-paulo\", \"sport\", \"vasco\", \"vitoria\"]\n",
        "\n",
        "conteudos_times = {}"
      ]
    },
    {
      "cell_type": "code",
      "execution_count": 17,
      "metadata": {
        "id": "PDIB1MO77iGA"
      },
      "outputs": [],
      "source": [
        "base_url = \"https://ge.globo.com/futebol/times/\"\n",
        "\n",
        "for t in times:\n",
        "  time_url = base_url + t\n",
        "  noticias = extrair_links_noticias_post(time_url)\n",
        "\n",
        "  conteudos = []\n",
        "  for n in noticias:\n",
        "    conteudos.append(extrair_conteudo_noticia(n))\n",
        "\n",
        "  pattern = re.compile(r'^\\+ O ge')\n",
        "  c = [\" \".join(parts) for parts in conteudos if not pattern.match(\" \".join(parts))]\n",
        "\n",
        "  c = [i for i in c if i not in (\" \", \"\")]\n",
        "\n",
        "  conteudos_times[t] = c"
      ]
    },
    {
      "cell_type": "code",
      "execution_count": 18,
      "metadata": {
        "id": "4oGAv_a1S0_W"
      },
      "outputs": [],
      "source": [
        "records = [\n",
        "    (time, noticia)\n",
        "    for time, noticias in conteudos_times.items()\n",
        "    for noticia in noticias\n",
        "]\n",
        "\n",
        "df_time_noticia = pd.DataFrame(records, columns=['time', 'noticia'])"
      ]
    },
    {
      "cell_type": "markdown",
      "source": [
        "Para verificarmos se a extração foi feita corretamente, vamos exibir o DataFrame construído com os times e suas respectivas notícias."
      ],
      "metadata": {
        "id": "YKCYacLp4Fet"
      }
    },
    {
      "cell_type": "code",
      "execution_count": 19,
      "metadata": {
        "colab": {
          "base_uri": "https://localhost:8080/",
          "height": 424
        },
        "id": "HUbdX0FdZ66d",
        "outputId": "8f116860-a202-4595-dc6a-a9941481cbdd"
      },
      "outputs": [
        {
          "output_type": "execute_result",
          "data": {
            "text/plain": [
              "           time                                            noticia\n",
              "0   atletico-mg  O meia-atacante Dudu esteve na Cidade do Galo ...\n",
              "1   atletico-mg  O torcedor do Atlético-MG matou a saudade da A...\n",
              "2   atletico-mg  Os argentinos do Estudiantes de La Plata solta...\n",
              "3   atletico-mg  De \"time sem vergonha\" a \"o Galo é o time da v...\n",
              "4   atletico-mg  Após a vitória do Atlético-MG contra o Flumine...\n",
              "..          ...                                                ...\n",
              "75      vitoria  Após bater o Vasco por 2 a 1 , na noite do últ...\n",
              "76      vitoria  O Vitória alcançou o seu principal objetivo pa...\n",
              "77      vitoria  Depois de uma longa espera, a estreia de Renat...\n",
              "78      vitoria  Com um jogador a menos, o Vitória mostrou forç...\n",
              "79      vitoria  De virada, Vitória bateu o Vasco por 2 a 1 , n...\n",
              "\n",
              "[80 rows x 2 columns]"
            ],
            "text/html": [
              "\n",
              "  <div id=\"df-2fefb22f-d819-47e1-b396-12758f50aa88\" class=\"colab-df-container\">\n",
              "    <div>\n",
              "<style scoped>\n",
              "    .dataframe tbody tr th:only-of-type {\n",
              "        vertical-align: middle;\n",
              "    }\n",
              "\n",
              "    .dataframe tbody tr th {\n",
              "        vertical-align: top;\n",
              "    }\n",
              "\n",
              "    .dataframe thead th {\n",
              "        text-align: right;\n",
              "    }\n",
              "</style>\n",
              "<table border=\"1\" class=\"dataframe\">\n",
              "  <thead>\n",
              "    <tr style=\"text-align: right;\">\n",
              "      <th></th>\n",
              "      <th>time</th>\n",
              "      <th>noticia</th>\n",
              "    </tr>\n",
              "  </thead>\n",
              "  <tbody>\n",
              "    <tr>\n",
              "      <th>0</th>\n",
              "      <td>atletico-mg</td>\n",
              "      <td>O meia-atacante Dudu esteve na Cidade do Galo ...</td>\n",
              "    </tr>\n",
              "    <tr>\n",
              "      <th>1</th>\n",
              "      <td>atletico-mg</td>\n",
              "      <td>O torcedor do Atlético-MG matou a saudade da A...</td>\n",
              "    </tr>\n",
              "    <tr>\n",
              "      <th>2</th>\n",
              "      <td>atletico-mg</td>\n",
              "      <td>Os argentinos do Estudiantes de La Plata solta...</td>\n",
              "    </tr>\n",
              "    <tr>\n",
              "      <th>3</th>\n",
              "      <td>atletico-mg</td>\n",
              "      <td>De \"time sem vergonha\" a \"o Galo é o time da v...</td>\n",
              "    </tr>\n",
              "    <tr>\n",
              "      <th>4</th>\n",
              "      <td>atletico-mg</td>\n",
              "      <td>Após a vitória do Atlético-MG contra o Flumine...</td>\n",
              "    </tr>\n",
              "    <tr>\n",
              "      <th>...</th>\n",
              "      <td>...</td>\n",
              "      <td>...</td>\n",
              "    </tr>\n",
              "    <tr>\n",
              "      <th>75</th>\n",
              "      <td>vitoria</td>\n",
              "      <td>Após bater o Vasco por 2 a 1 , na noite do últ...</td>\n",
              "    </tr>\n",
              "    <tr>\n",
              "      <th>76</th>\n",
              "      <td>vitoria</td>\n",
              "      <td>O Vitória alcançou o seu principal objetivo pa...</td>\n",
              "    </tr>\n",
              "    <tr>\n",
              "      <th>77</th>\n",
              "      <td>vitoria</td>\n",
              "      <td>Depois de uma longa espera, a estreia de Renat...</td>\n",
              "    </tr>\n",
              "    <tr>\n",
              "      <th>78</th>\n",
              "      <td>vitoria</td>\n",
              "      <td>Com um jogador a menos, o Vitória mostrou forç...</td>\n",
              "    </tr>\n",
              "    <tr>\n",
              "      <th>79</th>\n",
              "      <td>vitoria</td>\n",
              "      <td>De virada, Vitória bateu o Vasco por 2 a 1 , n...</td>\n",
              "    </tr>\n",
              "  </tbody>\n",
              "</table>\n",
              "<p>80 rows × 2 columns</p>\n",
              "</div>\n",
              "    <div class=\"colab-df-buttons\">\n",
              "\n",
              "  <div class=\"colab-df-container\">\n",
              "    <button class=\"colab-df-convert\" onclick=\"convertToInteractive('df-2fefb22f-d819-47e1-b396-12758f50aa88')\"\n",
              "            title=\"Convert this dataframe to an interactive table.\"\n",
              "            style=\"display:none;\">\n",
              "\n",
              "  <svg xmlns=\"http://www.w3.org/2000/svg\" height=\"24px\" viewBox=\"0 -960 960 960\">\n",
              "    <path d=\"M120-120v-720h720v720H120Zm60-500h600v-160H180v160Zm220 220h160v-160H400v160Zm0 220h160v-160H400v160ZM180-400h160v-160H180v160Zm440 0h160v-160H620v160ZM180-180h160v-160H180v160Zm440 0h160v-160H620v160Z\"/>\n",
              "  </svg>\n",
              "    </button>\n",
              "\n",
              "  <style>\n",
              "    .colab-df-container {\n",
              "      display:flex;\n",
              "      gap: 12px;\n",
              "    }\n",
              "\n",
              "    .colab-df-convert {\n",
              "      background-color: #E8F0FE;\n",
              "      border: none;\n",
              "      border-radius: 50%;\n",
              "      cursor: pointer;\n",
              "      display: none;\n",
              "      fill: #1967D2;\n",
              "      height: 32px;\n",
              "      padding: 0 0 0 0;\n",
              "      width: 32px;\n",
              "    }\n",
              "\n",
              "    .colab-df-convert:hover {\n",
              "      background-color: #E2EBFA;\n",
              "      box-shadow: 0px 1px 2px rgba(60, 64, 67, 0.3), 0px 1px 3px 1px rgba(60, 64, 67, 0.15);\n",
              "      fill: #174EA6;\n",
              "    }\n",
              "\n",
              "    .colab-df-buttons div {\n",
              "      margin-bottom: 4px;\n",
              "    }\n",
              "\n",
              "    [theme=dark] .colab-df-convert {\n",
              "      background-color: #3B4455;\n",
              "      fill: #D2E3FC;\n",
              "    }\n",
              "\n",
              "    [theme=dark] .colab-df-convert:hover {\n",
              "      background-color: #434B5C;\n",
              "      box-shadow: 0px 1px 3px 1px rgba(0, 0, 0, 0.15);\n",
              "      filter: drop-shadow(0px 1px 2px rgba(0, 0, 0, 0.3));\n",
              "      fill: #FFFFFF;\n",
              "    }\n",
              "  </style>\n",
              "\n",
              "    <script>\n",
              "      const buttonEl =\n",
              "        document.querySelector('#df-2fefb22f-d819-47e1-b396-12758f50aa88 button.colab-df-convert');\n",
              "      buttonEl.style.display =\n",
              "        google.colab.kernel.accessAllowed ? 'block' : 'none';\n",
              "\n",
              "      async function convertToInteractive(key) {\n",
              "        const element = document.querySelector('#df-2fefb22f-d819-47e1-b396-12758f50aa88');\n",
              "        const dataTable =\n",
              "          await google.colab.kernel.invokeFunction('convertToInteractive',\n",
              "                                                    [key], {});\n",
              "        if (!dataTable) return;\n",
              "\n",
              "        const docLinkHtml = 'Like what you see? Visit the ' +\n",
              "          '<a target=\"_blank\" href=https://colab.research.google.com/notebooks/data_table.ipynb>data table notebook</a>'\n",
              "          + ' to learn more about interactive tables.';\n",
              "        element.innerHTML = '';\n",
              "        dataTable['output_type'] = 'display_data';\n",
              "        await google.colab.output.renderOutput(dataTable, element);\n",
              "        const docLink = document.createElement('div');\n",
              "        docLink.innerHTML = docLinkHtml;\n",
              "        element.appendChild(docLink);\n",
              "      }\n",
              "    </script>\n",
              "  </div>\n",
              "\n",
              "\n",
              "    <div id=\"df-478f54ef-a72e-4965-90f8-56b8862230e4\">\n",
              "      <button class=\"colab-df-quickchart\" onclick=\"quickchart('df-478f54ef-a72e-4965-90f8-56b8862230e4')\"\n",
              "                title=\"Suggest charts\"\n",
              "                style=\"display:none;\">\n",
              "\n",
              "<svg xmlns=\"http://www.w3.org/2000/svg\" height=\"24px\"viewBox=\"0 0 24 24\"\n",
              "     width=\"24px\">\n",
              "    <g>\n",
              "        <path d=\"M19 3H5c-1.1 0-2 .9-2 2v14c0 1.1.9 2 2 2h14c1.1 0 2-.9 2-2V5c0-1.1-.9-2-2-2zM9 17H7v-7h2v7zm4 0h-2V7h2v10zm4 0h-2v-4h2v4z\"/>\n",
              "    </g>\n",
              "</svg>\n",
              "      </button>\n",
              "\n",
              "<style>\n",
              "  .colab-df-quickchart {\n",
              "      --bg-color: #E8F0FE;\n",
              "      --fill-color: #1967D2;\n",
              "      --hover-bg-color: #E2EBFA;\n",
              "      --hover-fill-color: #174EA6;\n",
              "      --disabled-fill-color: #AAA;\n",
              "      --disabled-bg-color: #DDD;\n",
              "  }\n",
              "\n",
              "  [theme=dark] .colab-df-quickchart {\n",
              "      --bg-color: #3B4455;\n",
              "      --fill-color: #D2E3FC;\n",
              "      --hover-bg-color: #434B5C;\n",
              "      --hover-fill-color: #FFFFFF;\n",
              "      --disabled-bg-color: #3B4455;\n",
              "      --disabled-fill-color: #666;\n",
              "  }\n",
              "\n",
              "  .colab-df-quickchart {\n",
              "    background-color: var(--bg-color);\n",
              "    border: none;\n",
              "    border-radius: 50%;\n",
              "    cursor: pointer;\n",
              "    display: none;\n",
              "    fill: var(--fill-color);\n",
              "    height: 32px;\n",
              "    padding: 0;\n",
              "    width: 32px;\n",
              "  }\n",
              "\n",
              "  .colab-df-quickchart:hover {\n",
              "    background-color: var(--hover-bg-color);\n",
              "    box-shadow: 0 1px 2px rgba(60, 64, 67, 0.3), 0 1px 3px 1px rgba(60, 64, 67, 0.15);\n",
              "    fill: var(--button-hover-fill-color);\n",
              "  }\n",
              "\n",
              "  .colab-df-quickchart-complete:disabled,\n",
              "  .colab-df-quickchart-complete:disabled:hover {\n",
              "    background-color: var(--disabled-bg-color);\n",
              "    fill: var(--disabled-fill-color);\n",
              "    box-shadow: none;\n",
              "  }\n",
              "\n",
              "  .colab-df-spinner {\n",
              "    border: 2px solid var(--fill-color);\n",
              "    border-color: transparent;\n",
              "    border-bottom-color: var(--fill-color);\n",
              "    animation:\n",
              "      spin 1s steps(1) infinite;\n",
              "  }\n",
              "\n",
              "  @keyframes spin {\n",
              "    0% {\n",
              "      border-color: transparent;\n",
              "      border-bottom-color: var(--fill-color);\n",
              "      border-left-color: var(--fill-color);\n",
              "    }\n",
              "    20% {\n",
              "      border-color: transparent;\n",
              "      border-left-color: var(--fill-color);\n",
              "      border-top-color: var(--fill-color);\n",
              "    }\n",
              "    30% {\n",
              "      border-color: transparent;\n",
              "      border-left-color: var(--fill-color);\n",
              "      border-top-color: var(--fill-color);\n",
              "      border-right-color: var(--fill-color);\n",
              "    }\n",
              "    40% {\n",
              "      border-color: transparent;\n",
              "      border-right-color: var(--fill-color);\n",
              "      border-top-color: var(--fill-color);\n",
              "    }\n",
              "    60% {\n",
              "      border-color: transparent;\n",
              "      border-right-color: var(--fill-color);\n",
              "    }\n",
              "    80% {\n",
              "      border-color: transparent;\n",
              "      border-right-color: var(--fill-color);\n",
              "      border-bottom-color: var(--fill-color);\n",
              "    }\n",
              "    90% {\n",
              "      border-color: transparent;\n",
              "      border-bottom-color: var(--fill-color);\n",
              "    }\n",
              "  }\n",
              "</style>\n",
              "\n",
              "      <script>\n",
              "        async function quickchart(key) {\n",
              "          const quickchartButtonEl =\n",
              "            document.querySelector('#' + key + ' button');\n",
              "          quickchartButtonEl.disabled = true;  // To prevent multiple clicks.\n",
              "          quickchartButtonEl.classList.add('colab-df-spinner');\n",
              "          try {\n",
              "            const charts = await google.colab.kernel.invokeFunction(\n",
              "                'suggestCharts', [key], {});\n",
              "          } catch (error) {\n",
              "            console.error('Error during call to suggestCharts:', error);\n",
              "          }\n",
              "          quickchartButtonEl.classList.remove('colab-df-spinner');\n",
              "          quickchartButtonEl.classList.add('colab-df-quickchart-complete');\n",
              "        }\n",
              "        (() => {\n",
              "          let quickchartButtonEl =\n",
              "            document.querySelector('#df-478f54ef-a72e-4965-90f8-56b8862230e4 button');\n",
              "          quickchartButtonEl.style.display =\n",
              "            google.colab.kernel.accessAllowed ? 'block' : 'none';\n",
              "        })();\n",
              "      </script>\n",
              "    </div>\n",
              "\n",
              "  <div id=\"id_a825d148-bda4-478c-a6e3-d05504973b78\">\n",
              "    <style>\n",
              "      .colab-df-generate {\n",
              "        background-color: #E8F0FE;\n",
              "        border: none;\n",
              "        border-radius: 50%;\n",
              "        cursor: pointer;\n",
              "        display: none;\n",
              "        fill: #1967D2;\n",
              "        height: 32px;\n",
              "        padding: 0 0 0 0;\n",
              "        width: 32px;\n",
              "      }\n",
              "\n",
              "      .colab-df-generate:hover {\n",
              "        background-color: #E2EBFA;\n",
              "        box-shadow: 0px 1px 2px rgba(60, 64, 67, 0.3), 0px 1px 3px 1px rgba(60, 64, 67, 0.15);\n",
              "        fill: #174EA6;\n",
              "      }\n",
              "\n",
              "      [theme=dark] .colab-df-generate {\n",
              "        background-color: #3B4455;\n",
              "        fill: #D2E3FC;\n",
              "      }\n",
              "\n",
              "      [theme=dark] .colab-df-generate:hover {\n",
              "        background-color: #434B5C;\n",
              "        box-shadow: 0px 1px 3px 1px rgba(0, 0, 0, 0.15);\n",
              "        filter: drop-shadow(0px 1px 2px rgba(0, 0, 0, 0.3));\n",
              "        fill: #FFFFFF;\n",
              "      }\n",
              "    </style>\n",
              "    <button class=\"colab-df-generate\" onclick=\"generateWithVariable('df_time_noticia')\"\n",
              "            title=\"Generate code using this dataframe.\"\n",
              "            style=\"display:none;\">\n",
              "\n",
              "  <svg xmlns=\"http://www.w3.org/2000/svg\" height=\"24px\"viewBox=\"0 0 24 24\"\n",
              "       width=\"24px\">\n",
              "    <path d=\"M7,19H8.4L18.45,9,17,7.55,7,17.6ZM5,21V16.75L18.45,3.32a2,2,0,0,1,2.83,0l1.4,1.43a1.91,1.91,0,0,1,.58,1.4,1.91,1.91,0,0,1-.58,1.4L9.25,21ZM18.45,9,17,7.55Zm-12,3A5.31,5.31,0,0,0,4.9,8.1,5.31,5.31,0,0,0,1,6.5,5.31,5.31,0,0,0,4.9,4.9,5.31,5.31,0,0,0,6.5,1,5.31,5.31,0,0,0,8.1,4.9,5.31,5.31,0,0,0,12,6.5,5.46,5.46,0,0,0,6.5,12Z\"/>\n",
              "  </svg>\n",
              "    </button>\n",
              "    <script>\n",
              "      (() => {\n",
              "      const buttonEl =\n",
              "        document.querySelector('#id_a825d148-bda4-478c-a6e3-d05504973b78 button.colab-df-generate');\n",
              "      buttonEl.style.display =\n",
              "        google.colab.kernel.accessAllowed ? 'block' : 'none';\n",
              "\n",
              "      buttonEl.onclick = () => {\n",
              "        google.colab.notebook.generateWithVariable('df_time_noticia');\n",
              "      }\n",
              "      })();\n",
              "    </script>\n",
              "  </div>\n",
              "\n",
              "    </div>\n",
              "  </div>\n"
            ],
            "application/vnd.google.colaboratory.intrinsic+json": {
              "type": "dataframe",
              "variable_name": "df_time_noticia",
              "summary": "{\n  \"name\": \"df_time_noticia\",\n  \"rows\": 80,\n  \"fields\": [\n    {\n      \"column\": \"time\",\n      \"properties\": {\n        \"dtype\": \"category\",\n        \"num_unique_values\": 20,\n        \"samples\": [\n          \"atletico-mg\",\n          \"sport\",\n          \"santos\"\n        ],\n        \"semantic_type\": \"\",\n        \"description\": \"\"\n      }\n    },\n    {\n      \"column\": \"noticia\",\n      \"properties\": {\n        \"dtype\": \"string\",\n        \"num_unique_values\": 77,\n        \"samples\": [\n          \"Ap\\u00f3s a vit\\u00f3ria do Atl\\u00e9tico-MG contra o Fluminense por 3 a 2, pelo Campeonato Brasileiro, o t\\u00e9cnico Cuca ressaltou a evolu\\u00e7\\u00e3o da equipe, mas alertou sobre o elenco. Com mudan\\u00e7as no time, o treinador fez quest\\u00e3o de relembrar que o Galo est\\u00e1 em reconstru\\u00e7\\u00e3o. - N\\u00f3s estamos em fase de reconstru\\u00e7\\u00e3o do time, e ainda n\\u00e3o definida, mas o caminho \\u00e9 assim. \\u00c9 duro, dif\\u00edcil, mas \\u00e9 saboroso, porque quando voc\\u00ea tem uma vit\\u00f3ria igual a hoje, \\u00e0s vezes ela significa mais do que voc\\u00ea fazer um 3 a 0. E acho que o desempenho foi muito satisfat\\u00f3rio, dentro do que se pode jogar, jogamos com uma equipe igual a gente, o Fluminense tem uma grande equipe. E valorizou muito a nossa vit\\u00f3ria.\\\" Com a terceira vit\\u00f3ria conquistada no Campeonato Brasileiro, Cuca elogiou a melhora da equipe na competi\\u00e7\\u00e3o. Com isso, o treinador tamb\\u00e9m pediu para que o torcedor confie no trabalho que o time vem fazendo. - E a gente sai muito feliz com a vit\\u00f3ria, eu acho que super merecida. Dos \\u00faltimos 12 pontos que a gente disputou no Campeonato Brasileiro, fizemos 10. Ganhamos do Botafogo, empatamos com o Mirassol, ganhamos do Juventude e hoje. Ent\\u00e3o as coisas est\\u00e3o se encaminhando, j\\u00e1 estamos em sexto lugar. \\\"Pe\\u00e7o que confiem na gente, confiem no trabalho e no que a gente est\\u00e1 fazendo. A gente vai ter coisas boas ainda esse ano, se Deus quiser. Ao falar do elenco, Cuca relembrou sobre a quantidade de mudan\\u00e7as na equipe e o tempo que se leva para adapta\\u00e7\\u00e3o. O treinador ainda citou a poss\\u00edvel chegada de refor\\u00e7os, podendo mudar ainda mais o estilo da equipe. Ele tamb\\u00e9m fez quest\\u00e3o de relembrar que o Atl\\u00e9tico est\\u00e1 vivo em todas as competi\\u00e7\\u00f5es. - Esssa equipe que est\\u00e1 aqui nesse ano de 2025, sa\\u00edram 15 jogadores no final do ano e chegaram 10, agora com Dudu, 11. Voc\\u00ea n\\u00e3o tem como j\\u00e1 ter um conjunto, um entrosamento e estar jogando o que o torcedor espera. Se voc\\u00ea ainda n\\u00e3o finalizou a tua equipe, ainda tem pe\\u00e7as por vir, na segunda janela para voc\\u00ea ficar mais fortalecido. Ent\\u00e3o, dentro de todas essas mudan\\u00e7as e vindo jogadores de diversas caracter\\u00edsticas, n\\u00f3s ganhamos um mineiro e estamos vivos nos dois torneios mata-mata, Copa do Brasil e Sul-Americana, e demos uma recuperada boa no Brasileiro. Durante a an\\u00e1lise da partida contra o Fluminense, Cuca citou que a vit\\u00f3ria relembrou a de 2012, quando Ronaldinho estava na equipe alvinegra, j\\u00e1 que ambos os jogos foram de virada e ficaram 3 a 2. Relembre no v\\u00eddeo abaixo . O Atl\\u00e9tico volta \\u00e0 campo nesta quinta-feira, contra o Caracas, pela Conmebol Sul-Americana, \\u00e0s 21h30 (de Bras\\u00edlia), na Arena MRV. Pelo Brasileir\\u00e3o, o Galo tem o cl\\u00e1ssico com o Cruzeiro, no domingo, \\u00e0s 20h30 (de Bras\\u00edlia), no Mineir\\u00e3o.\",\n          \"Thiago Silva se pronunciou nas redes sociais, na noite deste domingo, e se desculpou pela declara\\u00e7\\u00e3o dada ap\\u00f3s a derrota por 3 a 2 para o Atl\\u00e9tico-MG, na Arena MRV. Ap\\u00f3s afirmar que \\\"falta um pouco mais de car\\u00e1ter e luta\\\" dos seus companheiros, o zagueiro afirmou que \\\"se expressou mal\\\" e pediu desculpas aos jogadores do Fluminense . \\\"Quero corrigir e deixar bem claro que car\\u00e1ter n\\u00e3o falta pra ningu\\u00e9m desse grupo. Gostaria de esclarecer que a palavra correta seria personalidade para o momento de dificuldade que atravessamos devido aos \\u00faltimos resultados. Me expressei mal e pe\\u00e7o desculpas aos meus companheiros por isso\\\", escreveu Thiago Silva nas suas redes sociais. A declara\\u00e7\\u00e3o pol\\u00eamica aconteceu depois que o Fluminense levou a virada e perdeu por 3 a 2 para o Atl\\u00e9tico-MG na tarde deste domingo, na Arena MRV, e se distanciou do G-4 do Campeonato Brasileiro. Voltando a jogar depois de aproximadamente um m\\u00eas, o capit\\u00e3o Thiago Silva desabafou na sa\\u00edda de campo depois da nova derrota tricolor. \\u2014 N\\u00e3o fizemos um bel\\u00edssimo jogo, mas tamb\\u00e9m n\\u00e3o fizemos um jogo muito ruim. Mas acho que poder\\u00edamos fazer melhor. Essa tem que ser a nossa cobran\\u00e7a, de olhar para dentro e ver o que n\\u00e3o est\\u00e1 dando certo. Acho que um pouco mais de car\\u00e1ter, de luta. \\u00c9 dif\\u00edcil falar, cara. Tem umas coisas que a gente tem que falar dentro, n\\u00e3o podemos expor tudo. Mas \\u00e9 uma situa\\u00e7\\u00e3o complicada que a gente vem atravessando. A gente n\\u00e3o vem desempenhando bem, e com isso as coisas n\\u00e3o est\\u00e3o acontecendo. Hoje a gente sai na frente, depois para de jogar. \\u00c9 dif\\u00edcil, \\u00e9 dif\\u00edcil. + Atua\\u00e7\\u00f5es do Flu: Renato mexe mal e n\\u00e3o consegue conter \\u00edmpeto do Atl\\u00e9tico-MG; d\\u00ea suas notas O Fluminense vive um momento contestado tanto nas derrotas quanto nas vit\\u00f3rias sem convencer. O Tricolor volta a campo na quarta-feira e recebe o Uni\\u00f3n Espa\\u00f1ola no Maracan\\u00e3, pela Copa Sul-Americana. Thiago Silva cobrou uma rea\\u00e7\\u00e3o r\\u00e1pida e tamb\\u00e9m reclamou dos muitos gols sofridos: \\u2014 \\u00c9 o momento da gente olhar para dentro, olhar no espelho e ver o que tem para fazer para melhorar. Quarta-feira tem um jogo importante, teoricamente decisivo para a gente, depois sai para Caxias onde tem que pontuar. E no momento est\\u00e1 dif\\u00edcil. Vamos tentar recuperar da melhor maneira poss\\u00edvel, depois de um m\\u00eas quase que eu n\\u00e3o jogo, hoje at\\u00e9 que consegui suportar bem. At\\u00e9 no campo sint\\u00e9tico, um pouco mais duro, consegui desempenhar um papel teoricamente bom, mas n\\u00e3o foi suficiente para ajudar. \\u2014 Tem que minimizar esses erros porque todo jogo a gente vem tomando gol. E n\\u00e3o \\u00e9 por a\\u00ed que a coisa tem que andar. Time que quer brigar l\\u00e1 em cima tem que tomar o m\\u00ednimo de gol poss\\u00edvel. Eu nunca vi um time campe\\u00e3o tomando gol em todos os jogos. Isso n\\u00e3o \\u00e9 desculpa, n\\u00e3o \\u00e9 colocando culpa em ningu\\u00e9m. Acho que \\u00e9 um contexto geral que temos que avaliar. Conseguimos empatar um jogo dif\\u00edcil depois de eles terem virado. E no \\u00faltimo minuto voc\\u00ea toma o gol, depois de tr\\u00eas cobran\\u00e7as no mesmo lugar. Vamos descansar, falar o que tem para falar dentro e tentar reverter isso. Por fim, Thiago Silva n\\u00e3o atribuiu a derrota ao gramado sint\\u00e9tico que foi inaugurado neste domingo na Arena MRV, mas voltou a criticar o campo artificial para a pr\\u00e1tica esportiva no Brasil: \\u2014 Sint\\u00e9tico hoje n\\u00e3o fez diferen\\u00e7a porque eles tamb\\u00e9m n\\u00e3o est\\u00e3o acostumados. Mas n\\u00e3o \\u00e9 o que a gente quer para o nosso futebol. N\\u00e3o \\u00e9 contra o Atl\\u00e9tico-MG ou contra os times que t\\u00eam campo sint\\u00e9tico, mas \\u00e9 contra o espet\\u00e1culo. + O mercado do Cartola vai fechar! Monte seu time agora! + Compre j\\u00e1 seus ingressos para os jogos do Fluminense + \\u2705Clique aqui para seguir o novo canal ge Fluminense no WhatsApp Assista: tudo sobre o Fluminense no ge, na Globo e no sportv\",\n          \"O Botafogo goleou o Internacional por 4 a 0 neste domingo, em duelo da oitava rodada do Campeonato Brasileiro, no est\\u00e1dio Nilton Santos. Tr\\u00eas atletas, entretanto, n\\u00e3o participaram da goleada em meio a um processo de recupera\\u00e7\\u00e3o de les\\u00f5es: Savarino, Barboza e Matheus Martins. Em entrevista coletiva, o t\\u00e9cnico Renato Paiva confirmou que o trio n\\u00e3o estar\\u00e1 dispon\\u00edvel ao menos por mais dois jogos. A sequ\\u00eancia do Botafogo tem duelos contra o Estudiantes (Libertadores), o Flamengo (Brasileir\\u00e3o) e o Capital-DF (Copa do Brasil). A proje\\u00e7\\u00e3o do t\\u00e9cnico portugu\\u00eas \\u00e9 de que Savarino, Barboza e Matheus Martins estejam dispon\\u00edveis, no m\\u00ednimo, para o jogo em Bras\\u00edlia. \\u2014 N\\u00e3o consigo te dizer (quando voltam), mas n\\u00e3o ser\\u00e1 para os pr\\u00f3ximos jogos, certamente. Falo de Savarino, Barboza e Matheus (Martins). N\\u00e3o ser\\u00e3o para os pr\\u00f3ximos jogos. Pelo menos Flamengo e Estudiantes, n\\u00e3o \\u2014 disse Paiva (leia outros t\\u00f3picos da entrevista aqui). + Segundo tempo do Botafogo enche os olhos de Renato Paiva: \\\"Imagem daquilo que eu gosto\\\" + Atua\\u00e7\\u00f5es do Botafogo: Cuiabano e Marlon Freitas s\\u00e3o os melhores em goleada; d\\u00ea suas notas O problema de Matheus Martins \\u00e9 muscular, na coxa esquerda. Savarino convive com les\\u00e3o similar, mas na coxa direita. Barboza, por sua vez, convive com problema no p\\u00e9 esquerdo. O Botafogo volta a campo nesta quarta-feira, \\u00e0s 21h30, para enfrentar o Estudiantes (ARG). A partida \\u00e9 v\\u00e1lida pela quinta rodada da fase de grupos da Conmebol Libertadores. + Compre j\\u00e1 seus ingressos para os jogos do Botafogo + \\u2705Clique aqui para seguir o novo canal ge Botafogo no WhatsApp + O mercado do Cartola vai fechar! Monte seu time agora! Assista: tudo sobre o Botafogo no ge, na Globo e no sportv\"\n        ],\n        \"semantic_type\": \"\",\n        \"description\": \"\"\n      }\n    }\n  ]\n}"
            }
          },
          "metadata": {},
          "execution_count": 19
        }
      ],
      "source": [
        "df_time_noticia"
      ]
    },
    {
      "cell_type": "markdown",
      "source": [
        "Após a validação do DataFrame, podemos salvar estas informações dentro de um arquivo .csv"
      ],
      "metadata": {
        "id": "fd7ctyb84zet"
      }
    },
    {
      "cell_type": "code",
      "execution_count": 20,
      "metadata": {
        "id": "ALbSIfmmafl8"
      },
      "outputs": [],
      "source": [
        "df_time_noticia.to_csv(\"times_noticias.csv\")"
      ]
    }
  ],
  "metadata": {
    "colab": {
      "provenance": [],
      "include_colab_link": true
    },
    "kernelspec": {
      "display_name": "env",
      "language": "python",
      "name": "python3"
    },
    "language_info": {
      "codemirror_mode": {
        "name": "ipython",
        "version": 3
      },
      "file_extension": ".py",
      "mimetype": "text/x-python",
      "name": "python",
      "nbconvert_exporter": "python",
      "pygments_lexer": "ipython3",
      "version": "3.12.3"
    }
  },
  "nbformat": 4,
  "nbformat_minor": 0
}