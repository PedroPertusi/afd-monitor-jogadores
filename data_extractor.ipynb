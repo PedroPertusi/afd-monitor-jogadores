{
  "cells": [
    {
      "cell_type": "markdown",
      "metadata": {
        "id": "view-in-github"
      },
      "source": [
        "<a href=\"https://colab.research.google.com/github/PedroPertusi/afd-monitor-jogadores/blob/main/main.ipynb\" target=\"_parent\"><img src=\"https://colab.research.google.com/assets/colab-badge.svg\" alt=\"Open In Colab\"/></a>"
      ]
    },
    {
      "cell_type": "code",
      "execution_count": 1,
      "metadata": {
        "colab": {
          "base_uri": "https://localhost:8080/"
        },
        "id": "m8mzzNRH2tep",
        "outputId": "0d27ad84-4963-4f12-d287-481bc7eb2afd"
      },
      "outputs": [
        {
          "name": "stdout",
          "output_type": "stream",
          "text": [
            "Requirement already satisfied: BeautifulSoup4 in /usr/local/lib/python3.11/dist-packages (4.13.4)\n",
            "Requirement already satisfied: soupsieve>1.2 in /usr/local/lib/python3.11/dist-packages (from BeautifulSoup4) (2.7)\n",
            "Requirement already satisfied: typing-extensions>=4.0.0 in /usr/local/lib/python3.11/dist-packages (from BeautifulSoup4) (4.13.2)\n"
          ]
        }
      ],
      "source": [
        "# !python -m pip install selenium\n",
        "# !python -m pip install webdriver_manager\n",
        "# !python -m pip install requests\n",
        "# !python -m pip install BeautifulSoup4"
      ]
    },
    {
      "cell_type": "code",
      "execution_count": 1,
      "metadata": {
        "id": "7xUpg2do5UNZ"
      },
      "outputs": [],
      "source": [
        "from bs4 import BeautifulSoup\n",
        "import requests\n",
        "import re\n",
        "import pandas as pd"
      ]
    },
    {
      "cell_type": "code",
      "execution_count": 2,
      "metadata": {
        "id": "v4b6_pPB8GWG"
      },
      "outputs": [],
      "source": [
        "def baixar_pagina(url):\n",
        "  response = requests.get(url)\n",
        "  response.encoding = \"utf-8\"\n",
        "  html = response.text\n",
        "  return html"
      ]
    },
    {
      "cell_type": "code",
      "execution_count": 3,
      "metadata": {
        "id": "MsbbriIJ8iDQ"
      },
      "outputs": [],
      "source": [
        "def extrair_links_noticias_post(url):\n",
        "  html = baixar_pagina(url)\n",
        "  soup = BeautifulSoup(html, 'html.parser')\n",
        "  title = soup.find_all('h2')\n",
        "  links_noticias = []\n",
        "  for t in title:\n",
        "    if t.find('a').get('href'):\n",
        "      links_noticias.append(t.find('a').get('href'))\n",
        "  return links_noticias"
      ]
    },
    {
      "cell_type": "code",
      "execution_count": 4,
      "metadata": {
        "id": "hCr0FKiT-voy"
      },
      "outputs": [],
      "source": [
        "def extrair_conteudo_noticia(url):\n",
        "    html = baixar_pagina(url)\n",
        "    soup = BeautifulSoup(html, 'html.parser')\n",
        "    ps = soup.find_all('p', class_='content-text__container')\n",
        "\n",
        "    textos = []\n",
        "    for p in ps:\n",
        "        # descarta parágrafos que contenham intertítulo ou lista\n",
        "        if p.find('div', class_='content-intertitle') or p.find('ul'):\n",
        "            continue\n",
        "        # extrai texto limpo (inclui <a>, <strong>, etc)\n",
        "        textos.append(p.get_text(\" \", strip=True))\n",
        "    return textos"
      ]
    },
    {
      "cell_type": "code",
      "execution_count": 5,
      "metadata": {
        "id": "3_pbxkpeTAwX"
      },
      "outputs": [],
      "source": [
        "times = [\"atletico-mg\", \"bahia\", \"botafogo\", \"bragantino\", \"ceara\", \"corinthians\", \"cruzeiro\", \"flamengo\", \"fluminense\", \"fortaleza\",\n",
        "         \"gremio\", \"internacional\", \"juventude\", \"mirassol\", \"palmeiras\", \"santos\", \"sao-paulo\", \"sport\", \"vasco\", \"vitoria\"]\n",
        "\n",
        "conteudos_times = {}"
      ]
    },
    {
      "cell_type": "code",
      "execution_count": 6,
      "metadata": {
        "id": "PDIB1MO77iGA"
      },
      "outputs": [],
      "source": [
        "base_url = \"https://ge.globo.com/futebol/times/\"\n",
        "\n",
        "for t in times:\n",
        "  time_url = base_url + t\n",
        "  noticias = extrair_links_noticias_post(time_url)\n",
        "\n",
        "  conteudos = []\n",
        "  for n in noticias:\n",
        "    conteudos.append(extrair_conteudo_noticia(n))\n",
        "\n",
        "  pattern = re.compile(r'^\\+ O ge')\n",
        "  c = [\" \".join(parts) for parts in conteudos if not pattern.match(\" \".join(parts))]\n",
        "\n",
        "  c = [i for i in c if i not in (\" \", \"\")]\n",
        "\n",
        "  conteudos_times[t] = c"
      ]
    },
    {
      "cell_type": "code",
      "execution_count": 7,
      "metadata": {
        "id": "4oGAv_a1S0_W"
      },
      "outputs": [],
      "source": [
        "records = [\n",
        "    (time, noticia)\n",
        "    for time, noticias in conteudos_times.items()\n",
        "    for noticia in noticias\n",
        "]\n",
        "\n",
        "df_time_noticia = pd.DataFrame(records, columns=['time', 'noticia'])"
      ]
    },
    {
      "cell_type": "code",
      "execution_count": 8,
      "metadata": {
        "colab": {
          "base_uri": "https://localhost:8080/",
          "height": 424
        },
        "id": "HUbdX0FdZ66d",
        "outputId": "6188b0d5-f0f7-4f1a-e5aa-2a0f3c662739"
      },
      "outputs": [
        {
          "data": {
            "text/html": [
              "<div>\n",
              "<style scoped>\n",
              "    .dataframe tbody tr th:only-of-type {\n",
              "        vertical-align: middle;\n",
              "    }\n",
              "\n",
              "    .dataframe tbody tr th {\n",
              "        vertical-align: top;\n",
              "    }\n",
              "\n",
              "    .dataframe thead th {\n",
              "        text-align: right;\n",
              "    }\n",
              "</style>\n",
              "<table border=\"1\" class=\"dataframe\">\n",
              "  <thead>\n",
              "    <tr style=\"text-align: right;\">\n",
              "      <th></th>\n",
              "      <th>time</th>\n",
              "      <th>noticia</th>\n",
              "    </tr>\n",
              "  </thead>\n",
              "  <tbody>\n",
              "    <tr>\n",
              "      <th>0</th>\n",
              "      <td>atletico-mg</td>\n",
              "      <td>O meia-atacante Dudu esteve na Cidade do Galo ...</td>\n",
              "    </tr>\n",
              "    <tr>\n",
              "      <th>1</th>\n",
              "      <td>atletico-mg</td>\n",
              "      <td>O torcedor do Atlético-MG matou a saudade da A...</td>\n",
              "    </tr>\n",
              "    <tr>\n",
              "      <th>2</th>\n",
              "      <td>atletico-mg</td>\n",
              "      <td>Os argentinos do Estudiantes de La Plata solta...</td>\n",
              "    </tr>\n",
              "    <tr>\n",
              "      <th>3</th>\n",
              "      <td>atletico-mg</td>\n",
              "      <td>De \"time sem vergonha\" a \"o Galo é o time da v...</td>\n",
              "    </tr>\n",
              "    <tr>\n",
              "      <th>4</th>\n",
              "      <td>atletico-mg</td>\n",
              "      <td>Após a vitória do Atlético-MG contra o Flumine...</td>\n",
              "    </tr>\n",
              "    <tr>\n",
              "      <th>...</th>\n",
              "      <td>...</td>\n",
              "      <td>...</td>\n",
              "    </tr>\n",
              "    <tr>\n",
              "      <th>80</th>\n",
              "      <td>vitoria</td>\n",
              "      <td>Depois de uma longa espera, a estreia de Renat...</td>\n",
              "    </tr>\n",
              "    <tr>\n",
              "      <th>81</th>\n",
              "      <td>vitoria</td>\n",
              "      <td>Com um jogador a menos, o Vitória mostrou forç...</td>\n",
              "    </tr>\n",
              "    <tr>\n",
              "      <th>82</th>\n",
              "      <td>vitoria</td>\n",
              "      <td>De virada, Vitória bateu o Vasco por 2 a 1 , n...</td>\n",
              "    </tr>\n",
              "    <tr>\n",
              "      <th>83</th>\n",
              "      <td>vitoria</td>\n",
              "      <td>Renato Kayzer teve uma daquelas noites ilumina...</td>\n",
              "    </tr>\n",
              "    <tr>\n",
              "      <th>84</th>\n",
              "      <td>vitoria</td>\n",
              "      <td>O Vitória bateu o Vasco por 2 a 1 , na noite d...</td>\n",
              "    </tr>\n",
              "  </tbody>\n",
              "</table>\n",
              "<p>85 rows × 2 columns</p>\n",
              "</div>"
            ],
            "text/plain": [
              "           time                                            noticia\n",
              "0   atletico-mg  O meia-atacante Dudu esteve na Cidade do Galo ...\n",
              "1   atletico-mg  O torcedor do Atlético-MG matou a saudade da A...\n",
              "2   atletico-mg  Os argentinos do Estudiantes de La Plata solta...\n",
              "3   atletico-mg  De \"time sem vergonha\" a \"o Galo é o time da v...\n",
              "4   atletico-mg  Após a vitória do Atlético-MG contra o Flumine...\n",
              "..          ...                                                ...\n",
              "80      vitoria  Depois de uma longa espera, a estreia de Renat...\n",
              "81      vitoria  Com um jogador a menos, o Vitória mostrou forç...\n",
              "82      vitoria  De virada, Vitória bateu o Vasco por 2 a 1 , n...\n",
              "83      vitoria  Renato Kayzer teve uma daquelas noites ilumina...\n",
              "84      vitoria  O Vitória bateu o Vasco por 2 a 1 , na noite d...\n",
              "\n",
              "[85 rows x 2 columns]"
            ]
          },
          "execution_count": 8,
          "metadata": {},
          "output_type": "execute_result"
        }
      ],
      "source": [
        "df_time_noticia"
      ]
    },
    {
      "cell_type": "code",
      "execution_count": 9,
      "metadata": {
        "id": "ALbSIfmmafl8"
      },
      "outputs": [],
      "source": [
        "df_time_noticia.to_csv(\"times_noticias.csv\")"
      ]
    }
  ],
  "metadata": {
    "colab": {
      "provenance": []
    },
    "kernelspec": {
      "display_name": "env",
      "language": "python",
      "name": "python3"
    },
    "language_info": {
      "codemirror_mode": {
        "name": "ipython",
        "version": 3
      },
      "file_extension": ".py",
      "mimetype": "text/x-python",
      "name": "python",
      "nbconvert_exporter": "python",
      "pygments_lexer": "ipython3",
      "version": "3.12.3"
    }
  },
  "nbformat": 4,
  "nbformat_minor": 0
}
